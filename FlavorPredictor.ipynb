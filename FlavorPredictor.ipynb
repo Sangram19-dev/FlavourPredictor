{
 "cells": [
  {
   "cell_type": "code",
   "execution_count": 3,
   "id": "ffe4c5f5",
   "metadata": {},
   "outputs": [
    {
     "data": {
      "text/html": [
       "<div>\n",
       "<style scoped>\n",
       "    .dataframe tbody tr th:only-of-type {\n",
       "        vertical-align: middle;\n",
       "    }\n",
       "\n",
       "    .dataframe tbody tr th {\n",
       "        vertical-align: top;\n",
       "    }\n",
       "\n",
       "    .dataframe thead th {\n",
       "        text-align: right;\n",
       "    }\n",
       "</style>\n",
       "<table border=\"1\" class=\"dataframe\">\n",
       "  <thead>\n",
       "    <tr style=\"text-align: right;\">\n",
       "      <th></th>\n",
       "      <th>Age</th>\n",
       "      <th>Gender</th>\n",
       "      <th>Flavour</th>\n",
       "    </tr>\n",
       "  </thead>\n",
       "  <tbody>\n",
       "    <tr>\n",
       "      <th>0</th>\n",
       "      <td>6</td>\n",
       "      <td>Male</td>\n",
       "      <td>Chocolate</td>\n",
       "    </tr>\n",
       "    <tr>\n",
       "      <th>1</th>\n",
       "      <td>6</td>\n",
       "      <td>Female</td>\n",
       "      <td>Strawberry</td>\n",
       "    </tr>\n",
       "    <tr>\n",
       "      <th>2</th>\n",
       "      <td>7</td>\n",
       "      <td>Male</td>\n",
       "      <td>Chocolate</td>\n",
       "    </tr>\n",
       "    <tr>\n",
       "      <th>3</th>\n",
       "      <td>8</td>\n",
       "      <td>Female</td>\n",
       "      <td>Strawberry</td>\n",
       "    </tr>\n",
       "    <tr>\n",
       "      <th>4</th>\n",
       "      <td>11</td>\n",
       "      <td>Male</td>\n",
       "      <td>Butterscotch</td>\n",
       "    </tr>\n",
       "    <tr>\n",
       "      <th>5</th>\n",
       "      <td>10</td>\n",
       "      <td>Female</td>\n",
       "      <td>Butterscotch</td>\n",
       "    </tr>\n",
       "    <tr>\n",
       "      <th>6</th>\n",
       "      <td>12</td>\n",
       "      <td>Male</td>\n",
       "      <td>Butterscotch</td>\n",
       "    </tr>\n",
       "    <tr>\n",
       "      <th>7</th>\n",
       "      <td>14</td>\n",
       "      <td>Female</td>\n",
       "      <td>Vanilla</td>\n",
       "    </tr>\n",
       "    <tr>\n",
       "      <th>8</th>\n",
       "      <td>15</td>\n",
       "      <td>Male</td>\n",
       "      <td>Mango</td>\n",
       "    </tr>\n",
       "    <tr>\n",
       "      <th>9</th>\n",
       "      <td>15</td>\n",
       "      <td>Female</td>\n",
       "      <td>Vanilla</td>\n",
       "    </tr>\n",
       "    <tr>\n",
       "      <th>10</th>\n",
       "      <td>17</td>\n",
       "      <td>Male</td>\n",
       "      <td>Mango</td>\n",
       "    </tr>\n",
       "    <tr>\n",
       "      <th>11</th>\n",
       "      <td>16</td>\n",
       "      <td>Female</td>\n",
       "      <td>Butterscotch</td>\n",
       "    </tr>\n",
       "    <tr>\n",
       "      <th>12</th>\n",
       "      <td>19</td>\n",
       "      <td>Male</td>\n",
       "      <td>Almond &amp; Chocolate</td>\n",
       "    </tr>\n",
       "    <tr>\n",
       "      <th>13</th>\n",
       "      <td>18</td>\n",
       "      <td>Female</td>\n",
       "      <td>Butterscotch</td>\n",
       "    </tr>\n",
       "    <tr>\n",
       "      <th>14</th>\n",
       "      <td>20</td>\n",
       "      <td>Male</td>\n",
       "      <td>Almond &amp; Chocolate</td>\n",
       "    </tr>\n",
       "    <tr>\n",
       "      <th>15</th>\n",
       "      <td>20</td>\n",
       "      <td>Female</td>\n",
       "      <td>Butterscotch</td>\n",
       "    </tr>\n",
       "    <tr>\n",
       "      <th>16</th>\n",
       "      <td>21</td>\n",
       "      <td>Male</td>\n",
       "      <td>Coffe</td>\n",
       "    </tr>\n",
       "    <tr>\n",
       "      <th>17</th>\n",
       "      <td>22</td>\n",
       "      <td>Female</td>\n",
       "      <td>Coffe</td>\n",
       "    </tr>\n",
       "    <tr>\n",
       "      <th>18</th>\n",
       "      <td>24</td>\n",
       "      <td>Male</td>\n",
       "      <td>Almond &amp; Chocolate</td>\n",
       "    </tr>\n",
       "    <tr>\n",
       "      <th>19</th>\n",
       "      <td>24</td>\n",
       "      <td>Female</td>\n",
       "      <td>Coffe</td>\n",
       "    </tr>\n",
       "  </tbody>\n",
       "</table>\n",
       "</div>"
      ],
      "text/plain": [
       "    Age  Gender             Flavour\n",
       "0     6    Male           Chocolate\n",
       "1     6  Female          Strawberry\n",
       "2     7    Male           Chocolate\n",
       "3     8  Female          Strawberry\n",
       "4    11    Male        Butterscotch\n",
       "5    10  Female        Butterscotch\n",
       "6    12    Male        Butterscotch\n",
       "7    14  Female             Vanilla\n",
       "8    15    Male               Mango\n",
       "9    15  Female             Vanilla\n",
       "10   17    Male               Mango\n",
       "11   16  Female        Butterscotch\n",
       "12   19    Male  Almond & Chocolate\n",
       "13   18  Female        Butterscotch\n",
       "14   20    Male  Almond & Chocolate\n",
       "15   20  Female        Butterscotch\n",
       "16   21    Male               Coffe\n",
       "17   22  Female               Coffe\n",
       "18   24    Male  Almond & Chocolate\n",
       "19   24  Female               Coffe"
      ]
     },
     "execution_count": 3,
     "metadata": {},
     "output_type": "execute_result"
    }
   ],
   "source": [
    "import pandas\n",
    "dt = pandas.read_csv('flavour (1).csv')\n",
    "dt"
   ]
  },
  {
   "cell_type": "code",
   "execution_count": 5,
   "id": "f6593f1d",
   "metadata": {},
   "outputs": [
    {
     "data": {
      "text/plain": [
       "20"
      ]
     },
     "execution_count": 5,
     "metadata": {},
     "output_type": "execute_result"
    }
   ],
   "source": [
    "len(dt['Age'])"
   ]
  },
  {
   "cell_type": "code",
   "execution_count": 7,
   "id": "00242e1c",
   "metadata": {},
   "outputs": [
    {
     "data": {
      "text/plain": [
       "LabelEncoder()"
      ]
     },
     "execution_count": 7,
     "metadata": {},
     "output_type": "execute_result"
    }
   ],
   "source": [
    "#here we encode male and female values to numeric that will help ML model to understand\n",
    "#we use LabelEncoder for doing this(it is under sklearn.preprocessing)\n",
    "from sklearn.preprocessing import LabelEncoder\n",
    "Enc = LabelEncoder()\n",
    "Enc.fit(['Male','Female'])"
   ]
  },
  {
   "cell_type": "code",
   "execution_count": 8,
   "id": "6486d28d",
   "metadata": {},
   "outputs": [],
   "source": [
    "dt['Gender'] = Enc.transform(dt['Gender']) #for male it is 1 and female it is 0 now"
   ]
  },
  {
   "cell_type": "code",
   "execution_count": 10,
   "id": "6ecf1e4d",
   "metadata": {},
   "outputs": [],
   "source": [
    "#creating input output\n",
    "x = dt.drop(columns=['Flavour'])\n",
    "y = dt.drop(columns = ['Age','Gender'])"
   ]
  },
  {
   "cell_type": "code",
   "execution_count": 13,
   "id": "3a5d4758",
   "metadata": {},
   "outputs": [
    {
     "data": {
      "text/plain": [
       "DecisionTreeClassifier()"
      ]
     },
     "execution_count": 13,
     "metadata": {},
     "output_type": "execute_result"
    }
   ],
   "source": [
    "from sklearn.tree import DecisionTreeClassifier\n",
    "CModel = DecisionTreeClassifier()\n",
    "CModel.fit(x,y)"
   ]
  },
  {
   "cell_type": "code",
   "execution_count": 21,
   "id": "60e6c32e",
   "metadata": {},
   "outputs": [
    {
     "data": {
      "text/plain": [
       "array(['Coffe'], dtype=object)"
      ]
     },
     "execution_count": 21,
     "metadata": {},
     "output_type": "execute_result"
    }
   ],
   "source": [
    "#checking predected output\n",
    "age = 22\n",
    "gender = Enc.transform(['Female'])\n",
    "CModel.predict([[age,gender]])"
   ]
  },
  {
   "cell_type": "code",
   "execution_count": 22,
   "id": "7a7f2843",
   "metadata": {},
   "outputs": [
    {
     "data": {
      "text/plain": [
       "array(['Male'], dtype='<U6')"
      ]
     },
     "execution_count": 22,
     "metadata": {},
     "output_type": "execute_result"
    }
   ],
   "source": [
    "Enc.inverse_transform([1])"
   ]
  },
  {
   "cell_type": "code",
   "execution_count": 23,
   "id": "3a86baed",
   "metadata": {},
   "outputs": [],
   "source": [
    "def flav_pred():\n",
    "    age = input(\"Input Age:\")\n",
    "    gen = input(\"Gender:\").capitalize()\n",
    "    gender = Enc.transform([gen])\n",
    "    flav = CModel.predict([[age,gender]])\n",
    "    print('Recommender Flavour:', flav[0])\n",
    "    "
   ]
  },
  {
   "cell_type": "code",
   "execution_count": 25,
   "id": "9e895b49",
   "metadata": {},
   "outputs": [
    {
     "name": "stdout",
     "output_type": "stream",
     "text": [
      "Input Age:56\n",
      "Gender:male\n",
      "Recommender Flavour: Almond & Chocolate\n"
     ]
    }
   ],
   "source": [
    "flav_pred()"
   ]
  },
  {
   "cell_type": "code",
   "execution_count": null,
   "id": "522c985c",
   "metadata": {},
   "outputs": [],
   "source": []
  },
  {
   "cell_type": "code",
   "execution_count": null,
   "id": "ebc7255c",
   "metadata": {},
   "outputs": [],
   "source": []
  }
 ],
 "metadata": {
  "kernelspec": {
   "display_name": "Python 3",
   "language": "python",
   "name": "python3"
  },
  "language_info": {
   "codemirror_mode": {
    "name": "ipython",
    "version": 3
   },
   "file_extension": ".py",
   "mimetype": "text/x-python",
   "name": "python",
   "nbconvert_exporter": "python",
   "pygments_lexer": "ipython3",
   "version": "3.8.8"
  }
 },
 "nbformat": 4,
 "nbformat_minor": 5
}
